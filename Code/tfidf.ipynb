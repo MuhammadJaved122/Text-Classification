{
 "cells": [
  {
   "cell_type": "code",
   "execution_count": 1,
   "id": "bc057008-2906-47d9-b281-0ec5ec01374f",
   "metadata": {},
   "outputs": [
    {
     "name": "stdout",
     "output_type": "stream",
     "text": [
      "TF-IDF Matrix:\n",
      " [[0.         0.         0.         0.70710678 0.70710678]\n",
      " [0.         0.51785612 0.68091856 0.         0.51785612]\n",
      " [0.68091856 0.51785612 0.         0.51785612 0.        ]]\n"
     ]
    }
   ],
   "source": [
    "from sklearn.feature_extraction.text import TfidfVectorizer\n",
    "\n",
    "# Sample documents\n",
    "docs = [\"I love programming.\", \"Programming is fun.\", \"I love fun activities.\"]\n",
    "tfidf = TfidfVectorizer().fit_transform(docs).toarray()\n",
    "\n",
    "print(\"TF-IDF Matrix:\\n\", tfidf)\n"
   ]
  },
  {
   "cell_type": "code",
   "execution_count": null,
   "id": "ec7f88f6-110c-4bf1-a9a8-116994719645",
   "metadata": {},
   "outputs": [],
   "source": []
  }
 ],
 "metadata": {
  "kernelspec": {
   "display_name": "Python 3 (ipykernel)",
   "language": "python",
   "name": "python3"
  },
  "language_info": {
   "codemirror_mode": {
    "name": "ipython",
    "version": 3
   },
   "file_extension": ".py",
   "mimetype": "text/x-python",
   "name": "python",
   "nbconvert_exporter": "python",
   "pygments_lexer": "ipython3",
   "version": "3.12.4"
  }
 },
 "nbformat": 4,
 "nbformat_minor": 5
}
