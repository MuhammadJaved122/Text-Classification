{
 "cells": [
  {
   "cell_type": "code",
   "execution_count": 1,
   "id": "14710199-8c31-4178-ada2-7f79a7449e29",
   "metadata": {},
   "outputs": [
    {
     "name": "stdout",
     "output_type": "stream",
     "text": [
      "Bag of Words:\n",
      " [[0 0 0 1 1]\n",
      " [0 1 1 0 1]\n",
      " [1 1 0 1 0]]\n"
     ]
    }
   ],
   "source": [
    "from sklearn.feature_extraction.text import CountVectorizer\n",
    "\n",
    "# Sample documents\n",
    "docs = [\"I love programming.\", \"Programming is fun.\", \"I love fun activities.\"]\n",
    "bow = CountVectorizer().fit_transform(docs).toarray()\n",
    "\n",
    "print(\"Bag of Words:\\n\", bow)\n"
   ]
  },
  {
   "cell_type": "code",
   "execution_count": null,
   "id": "d4434676-11f4-4f6f-90e5-6336a47c2d8d",
   "metadata": {},
   "outputs": [],
   "source": []
  }
 ],
 "metadata": {
  "kernelspec": {
   "display_name": "Python 3 (ipykernel)",
   "language": "python",
   "name": "python3"
  },
  "language_info": {
   "codemirror_mode": {
    "name": "ipython",
    "version": 3
   },
   "file_extension": ".py",
   "mimetype": "text/x-python",
   "name": "python",
   "nbconvert_exporter": "python",
   "pygments_lexer": "ipython3",
   "version": "3.12.4"
  }
 },
 "nbformat": 4,
 "nbformat_minor": 5
}
